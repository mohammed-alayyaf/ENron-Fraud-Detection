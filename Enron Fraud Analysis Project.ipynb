{
 "cells": [
  {
   "cell_type": "markdown",
   "metadata": {},
   "source": [
    "# Importing necessary libraries"
   ]
  },
  {
   "cell_type": "code",
   "execution_count": 5,
   "metadata": {},
   "outputs": [],
   "source": [
    "import matplotlib.pyplot as plt\n",
    "import sys\n",
    "import pickle\n",
    "import pandas as pd\n",
    "import numpy as np\n",
    "import math\n",
    "from sklearn.feature_selection import SelectKBest, f_classif\n",
    "from sklearn import preprocbessing\n",
    "from sklearn import cross_validation\n",
    "from sklearn.tree import DecisionTreeClassifier\n",
    "from sklearn.ensemble import AdaBoostClassifier\n",
    "from sklearn.feature_selection import SelectKBest\n",
    "from sklearn.preprocessing import MinMaxScaler\n",
    "from sklearn.metrics import *\n",
    "from sklearn.svm import SVC\n",
    "from sklearn.naive_bayes import GaussianNB\n",
    "from time import time\n",
    "from sklearn.metrics import accuracy_score\n",
    "from sklearn.metrics import precision_score\n",
    "from sklearn.metrics import recall_score\n",
    "from sklearn.grid_search import GridSearchCV\n",
    "sys.path.append(\"../tools/\")\n",
    "from feature_format import featureFormat, targetFeatureSplit\n",
    "from tester import dump_classifier_and_data\n",
    "import pprint\n",
    "from sklearn.model_selection import GridSearchCV, StratifiedShuffleSplit\n",
    "import warnings\n",
    "warnings.filterwarnings('ignore')\n",
    "from sklearn import tree"
   ]
  },
  {
   "cell_type": "markdown",
   "metadata": {},
   "source": [
    "## Loading the dataset and selecting features to be used"
   ]
  },
  {
   "cell_type": "code",
   "execution_count": 24,
   "metadata": {
    "collapsed": true
   },
   "outputs": [],
   "source": [
    "# %load poi_id.py\n",
    "#!/usr/bin/python\n",
    "\n",
    "\n",
    "### Task 1: Select what features you'll use.\n",
    "### features_list is a list of strings, each of which is a feature name.\n",
    "### The first feature must be \"poi\".\n",
    "features_list = ['poi', 'salary', 'deferral_payments', 'total_payments',\n",
    "                 'loan_advances', 'bonus', 'restricted_stock_deferred',\n",
    "                 'deferred_income', 'total_stock_value', 'expenses',\n",
    "                 'exercised_stock_options', 'long_term_incentive', 'restricted_stock', 'director_fees']\n",
    "\n",
    "### Load the dictionary containing the dataset\n",
    "with open(\"final_project_dataset.pkl\", \"r\") as data_file:\n",
    "    data_dict = pickle.load(data_file)"
   ]
  },
  {
   "cell_type": "markdown",
   "metadata": {},
   "source": [
    "## Data Exploration"
   ]
  },
  {
   "cell_type": "code",
   "execution_count": 7,
   "metadata": {},
   "outputs": [
    {
     "name": "stdout",
     "output_type": "stream",
     "text": [
      "{'salary': 1111258, 'to_messages': 3627, 'deferral_payments': 'NaN', 'total_payments': 8682716, 'exercised_stock_options': 19250000, 'bonus': 5600000, 'restricted_stock': 6843672, 'shared_receipt_with_poi': 2042, 'restricted_stock_deferred': 'NaN', 'total_stock_value': 26093672, 'expenses': 29336, 'loan_advances': 'NaN', 'from_messages': 108, 'other': 22122, 'from_this_person_to_poi': 30, 'poi': True, 'director_fees': 'NaN', 'deferred_income': 'NaN', 'long_term_incentive': 1920000, 'email_address': 'jeff.skilling@enron.com', 'from_poi_to_this_person': 88}\n",
      "Total number of people in the dataset: 146\n",
      "Total number of features in the dataset: 21\n",
      "Number of poi in the dataset: 18\n"
     ]
    }
   ],
   "source": [
    "#Sample data for one of the people in the dataset \"Jeffrey Skilling\"\n",
    "print data_dict[\"SKILLING JEFFREY K\"]\n",
    "\n",
    "#Number of people in the datasets\n",
    "\n",
    "print \"Total number of people in the dataset: \" + str(len(data_dict))\n",
    "\n",
    "#Number of features in the dataset\n",
    "\n",
    "print \"Total number of features in the dataset: \" + str(len(data_dict[\"SKILLING JEFFREY K\"]))\n",
    "\n",
    "#Number of POIs in the dataset\n",
    "\n",
    "poi_count = 0\n",
    "for i in data_dict:\n",
    "    if data_dict[i]['poi']==True:\n",
    "        poi_count=poi_count+1\n",
    "print 'Number of poi in the dataset:', poi_count"
   ]
  },
  {
   "cell_type": "markdown",
   "metadata": {},
   "source": [
    "## Detecting the outlier"
   ]
  },
  {
   "cell_type": "code",
   "execution_count": 26,
   "metadata": {},
   "outputs": [
    {
     "name": "stdout",
     "output_type": "stream",
     "text": [
      "8000000.0\n"
     ]
    },
    {
     "data": {
      "image/png": "[encoded data removed]",
      "text/plain": [
       "<matplotlib.figure.Figure at 0x7f7b0fa0f190>"
      ]
     },
     "metadata": {},
     "output_type": "display_data"
    }
   ],
   "source": [
    "### Task 2: Remove outliers\n",
    "\n",
    "# first, we will check for outliers in the data by plotting it!\n",
    "features = [\"bonus\",\"salary\"]\n",
    "data = featureFormat(data_dict, features)\n",
    "print(data.max())\n",
    "\n",
    "for point in data:\n",
    "    bonus = point[0]\n",
    "    salary = point[1]\n",
    "    plt.scatter( bonus, salary )\n",
    "\n",
    "plt.xlabel(\"bonus\")\n",
    "plt.ylabel(\"salary\")\n",
    "plt.show()\n",
    "\n",
    "# and as is it appears that we have one very imporant outlier, we just need to figure out which data point is it ?!\n",
    "\n",
    "# for point in data:\n",
    "#     salary = point[0]\n",
    "#     bonus = point[1]\n",
    "#     matplotlib.pyplot.scatter( salary, bonus )\n",
    "\n",
    "# matplotlib.pyplot.xlabel(\"salary\")\n",
    "# matplotlib.pyplot.ylabel(\"bonus\")\n",
    "# matplotlib.pyplot.show()\n",
    "\n",
    "for i, v in data_dict.items():\n",
    "    if v['salary'] != 'NaN' and v['salary'] > 10000000:\n",
    "        print \"Outliers: \", i\n",
    "        \n",
    "        \n",
    "# and as it turned out that it was not a person !, but it was the \"Total\", so in this case removing the outlier \n",
    "# would be the right move to make .."
   ]
  },
  {
   "cell_type": "markdown",
   "metadata": {},
   "source": [
    "## Removing the outlier"
   ]
  },
  {
   "cell_type": "code",
   "execution_count": 27,
   "metadata": {},
   "outputs": [
    {
     "data": {
      "image/png": "[encoded data removed]",
      "text/plain": [
       "<matplotlib.figure.Figure at 0x7f7ad0502150>"
      ]
     },
     "metadata": {},
     "output_type": "display_data"
    }
   ],
   "source": [
    "features = [\"bonus\",\"salary\"]\n",
    "data = featureFormat(data_dict, features)\n",
    "\n",
    "data_dict.pop('TOTAL', 0)\n",
    "\n",
    "\n",
    "# now let's take another look at the plot after removing the outlier\n",
    "\n",
    "\n",
    "for point in data:\n",
    "    bonus = point[0]\n",
    "    salary = point[1]\n",
    "    plt.scatter( bonus, salary )\n",
    "\n",
    "plt.xlabel(\"bonus\")\n",
    "plt.ylabel(\"salary\")\n",
    "plt.show()\n",
    "\n",
    "# and now  we have more normal plot, with the high data points being are people susbected for fraud \"POI\""
   ]
  },
  {
   "cell_type": "markdown",
   "metadata": {},
   "source": [
    "## Removing NaN values "
   ]
  },
  {
   "cell_type": "code",
   "execution_count": 10,
   "metadata": {},
   "outputs": [
    {
     "name": "stdout",
     "output_type": "stream",
     "text": [
      "(145, 21)\n",
      "Number of NaN's in each coulmn before cleaning:  bonus                         64\n",
      "deferral_payments            107\n",
      "deferred_income               97\n",
      "director_fees                129\n",
      "email_address                 34\n",
      "exercised_stock_options       44\n",
      "expenses                      51\n",
      "from_messages                 59\n",
      "from_poi_to_this_person       59\n",
      "from_this_person_to_poi       59\n",
      "loan_advances                142\n",
      "long_term_incentive           80\n",
      "other                         53\n",
      "poi                            0\n",
      "restricted_stock              36\n",
      "restricted_stock_deferred    128\n",
      "salary                        51\n",
      "shared_receipt_with_poi       59\n",
      "to_messages                   59\n",
      "total_payments                21\n",
      "total_stock_value             20\n",
      "dtype: int64\n",
      "Number of NaN's in each coulmn after cleaning:  bonus                        0\n",
      "deferral_payments            0\n",
      "deferred_income              0\n",
      "director_fees                0\n",
      "email_address                0\n",
      "exercised_stock_options      0\n",
      "expenses                     0\n",
      "from_messages                0\n",
      "from_poi_to_this_person      0\n",
      "from_this_person_to_poi      0\n",
      "loan_advances                0\n",
      "long_term_incentive          0\n",
      "other                        0\n",
      "poi                          0\n",
      "restricted_stock             0\n",
      "restricted_stock_deferred    0\n",
      "salary                       0\n",
      "shared_receipt_with_poi      0\n",
      "to_messages                  0\n",
      "total_payments               0\n",
      "total_stock_value            0\n",
      "dtype: int64\n"
     ]
    }
   ],
   "source": [
    "# Load data into Pandas\n",
    "df = pd.DataFrame.from_records(list(data_dict.values()))\n",
    "\n",
    "# Convert to numpy nan\n",
    "df.replace(to_replace='NaN', value=np.nan, inplace=True)\n",
    "# df = df.replace(np.nan,'NaN', regex=True)\n",
    "\n",
    "# DataFrame dimension\n",
    "print df.shape\n",
    "# print df.head()\n",
    "\n",
    "# First, we will check for missing values and delete them, if found\n",
    "print \"Number of NaN's in each coulmn before cleaning: \", df.isnull().sum()\n",
    "\n",
    "# it turns out we have huge number of NaN's value in each column\n",
    "# next we will remove them to ensure data authenticity\n",
    "\n",
    "df_imp = df.replace(to_replace=np.nan, value=0)\n",
    "df_imp = df.fillna(0).copy(deep=True)\n",
    "df_imp.columns = list(df.columns.values)\n",
    "print \"Number of NaN's in each coulmn after cleaning: \", df_imp.isnull().sum()"
   ]
  },
  {
   "cell_type": "markdown",
   "metadata": {},
   "source": [
    "## Creating new feature"
   ]
  },
  {
   "cell_type": "code",
   "execution_count": 28,
   "metadata": {
    "scrolled": false
   },
   "outputs": [
    {
     "data": {
      "text/plain": [
       "['poi',\n",
       " 'salary',\n",
       " 'deferral_payments',\n",
       " 'total_payments',\n",
       " 'loan_advances',\n",
       " 'bonus',\n",
       " 'restricted_stock_deferred',\n",
       " 'deferred_income',\n",
       " 'total_stock_value',\n",
       " 'expenses',\n",
       " 'exercised_stock_options',\n",
       " 'long_term_incentive',\n",
       " 'restricted_stock',\n",
       " 'director_fees',\n",
       " 'bonus_salary_ratio']"
      ]
     },
     "execution_count": 28,
     "metadata": {},
     "output_type": "execute_result"
    }
   ],
   "source": [
    "### Task 3: Create new feature(s)\n",
    "\n",
    "\n",
    "### Extract features and labels from dataset for local testing\n",
    "data = featureFormat(my_dataset, features_list, sort_keys = True)\n",
    "labels, features = targetFeatureSplit(data)\n",
    " \n",
    "    \n",
    "# now we will add new feature into our dataset, which is the bonus to salary ratio \n",
    "\n",
    "for key in data_dict:\n",
    "    ratio = float(data_dict[key]['bonus'])/float(data_dict[key]['salary'])\n",
    "    if math.isnan(ratio):\n",
    "        data_dict[key]['bonus_salary_ratio'] = 0\n",
    "    else:\n",
    "        data_dict[key]['bonus_salary_ratio'] = ratio\n",
    "\n",
    "### Store to my_dataset for easy export below.\n",
    "my_dataset = data_dict        \n",
    "\n",
    "\n",
    "# features_list += ['bonus_salary_ratio']\n",
    "\n",
    "# we added 'bonus salary ratio' as a new feature, next we will go through our feature selection process\n",
    "# to decide which features to use\n",
    "\n",
    "\n",
    "features_list"
   ]
  },
  {
   "cell_type": "markdown",
   "metadata": {},
   "source": [
    "## Feature Selection"
   ]
  },
  {
   "cell_type": "code",
   "execution_count": 29,
   "metadata": {},
   "outputs": [
    {
     "name": "stdout",
     "output_type": "stream",
     "text": [
      "{'bonus': 21.060001707536571, 'exercised_stock_options': 25.097541528735491, 'salary': 18.575703268041785, 'total_stock_value': 24.467654047526398}\n"
     ]
    }
   ],
   "source": [
    "### Extract features and labels from dataset for local testing\n",
    "data = featureFormat(data_dict, features_list)\n",
    "labels, features = targetFeatureSplit(data)\n",
    "\n",
    "\n",
    "\n",
    "\n",
    "# for i in range(len(labels)):\n",
    "#     labels[i] = int(labels[i])\n",
    "\n",
    "\n",
    "# # labels and features print statements:\n",
    "# print \"Labels\", labels\n",
    "\n",
    "# for i in range(len(features)):\n",
    "#     print \"Features \", features[i]\n",
    "\n",
    "\n",
    "selection=SelectKBest(k=4).fit(features,labels)\n",
    "scores=selection.scores_\n",
    "unsorted_pairs = zip(features_list[1:], scores)\n",
    "sorted_pairs=list(reversed(sorted(unsorted_pairs, key=lambda x: x[1])))\n",
    "selection_best = dict(sorted_pairs[:4])\n",
    "print selection_best"
   ]
  },
  {
   "cell_type": "markdown",
   "metadata": {
    "collapsed": true
   },
   "source": [
    "### since we got our new feature got the lowest KBest score, I think it would be best if I just remove it "
   ]
  },
  {
   "cell_type": "code",
   "execution_count": 13,
   "metadata": {
    "collapsed": true
   },
   "outputs": [],
   "source": [
    "features_list = ['poi','salary', 'bonus', 'exercised_stock_options', 'total_stock_value']"
   ]
  },
  {
   "cell_type": "markdown",
   "metadata": {},
   "source": [
    "## Feature Scaling"
   ]
  },
  {
   "cell_type": "code",
   "execution_count": 30,
   "metadata": {
    "collapsed": true,
    "scrolled": true
   },
   "outputs": [],
   "source": [
    "# Feature Scaling through MinMaxScale\n",
    "\n",
    "data = featureFormat(data_dict, features_list, sort_keys = True)\n",
    "labels, features = targetFeatureSplit(data)\n",
    "scaler = preprocessing.MinMaxScaler()\n",
    "features = scaler.fit_transform(features)"
   ]
  },
  {
   "cell_type": "markdown",
   "metadata": {},
   "source": [
    "## Splitting the dataset into training and testing data"
   ]
  },
  {
   "cell_type": "code",
   "execution_count": 31,
   "metadata": {
    "collapsed": true
   },
   "outputs": [],
   "source": [
    "features_train,features_test,labels_train,labels_test = cross_validation.train_test_split(features,labels, test_size=0.3, \n",
    "                                                                                          random_state=42)"
   ]
  },
  {
   "cell_type": "markdown",
   "metadata": {},
   "source": [
    "## Trying out some classifiers  "
   ]
  },
  {
   "cell_type": "code",
   "execution_count": 87,
   "metadata": {},
   "outputs": [
    {
     "name": "stdout",
     "output_type": "stream",
     "text": [
      "Naive Bayes Classifier: \n",
      "Accuracy: 0.454545454545\n",
      "Precision Score: 0.172413793103\n",
      "Recall Score: 1.0\n"
     ]
    }
   ],
   "source": [
    "### Task 4: Try a varity of classifiers\n",
    "\n",
    "# Naive Bayes\n",
    "\n",
    "clf = GaussianNB()\n",
    "clf.fit(features_train,labels_train)\n",
    "\n",
    "print(\"Naive Bayes Classifier: \")\n",
    "print \"Accuracy: \" + str(accuracy_score(labels_test,pred))\n",
    "print \"Precision Score: \" + str(precision_score(labels_test,pred))\n",
    "print \"Recall Score: \" + str(recall_score(labels_test,pred))"
   ]
  },
  {
   "cell_type": "code",
   "execution_count": 16,
   "metadata": {},
   "outputs": [
    {
     "name": "stdout",
     "output_type": "stream",
     "text": [
      "Decision Tree Classifier: \n",
      "Accuracy: 0.820512820513\n",
      "Precision Score: 0.2\n",
      "Recall Score: 0.25\n"
     ]
    }
   ],
   "source": [
    "# Decision Tree\n",
    "\n",
    "clf = tree.DecisionTreeClassifier() \n",
    "clf.fit(features_train,labels_train)\n",
    "pred = clf.predict(features_test)\n",
    "\n",
    "print(\"Decision Tree Classifier: \")\n",
    "print \"Accuracy: \" + str(accuracy_score(labels_test,pred))\n",
    "print \"Precision Score: \" + str(precision_score(labels_test,pred))\n",
    "print \"Recall Score: \" + str(recall_score(labels_test,pred))"
   ]
  },
  {
   "cell_type": "code",
   "execution_count": 86,
   "metadata": {
    "scrolled": true
   },
   "outputs": [
    {
     "name": "stdout",
     "output_type": "stream",
     "text": [
      "SVC Classifier: \n",
      "Accuracy: 0.886363636364\n",
      "Precision Score: 0.0\n",
      "Recall Score: 0.0\n"
     ]
    }
   ],
   "source": [
    "# SVC\n",
    "\n",
    "clf = SVC()\n",
    "clf.fit(features_train,labels_train)\n",
    "pred = clf.predict(features_test)\n",
    "print(\"SVC Classifier: \")\n",
    "print \"Accuracy: \" + str(accuracy_score(labels_test,pred))\n",
    "print \"Precision Score: \" + str(precision_score(labels_test,pred))\n",
    "print \"Recall Score: \" + str(recall_score(labels_test,pred))"
   ]
  },
  {
   "cell_type": "markdown",
   "metadata": {},
   "source": [
    "## Classifier Tunning using Grid Search"
   ]
  },
  {
   "cell_type": "code",
   "execution_count": 80,
   "metadata": {},
   "outputs": [
    {
     "name": "stdout",
     "output_type": "stream",
     "text": [
      "0.514652014652\n",
      "DecisionTreeClassifier(class_weight=None, criterion='entropy', max_depth=10,\n",
      "            max_features=None, max_leaf_nodes=30, min_impurity_split=1e-07,\n",
      "            min_samples_leaf=1, min_samples_split=2,\n",
      "            min_weight_fraction_leaf=0.0, presort=False, random_state=None,\n",
      "            splitter='random')\n",
      "{'splitter': 'random', 'max_leaf_nodes': 30, 'min_samples_leaf': 1, 'criterion': 'entropy', 'min_samples_split': 2, 'max_depth': 10}\n"
     ]
    }
   ],
   "source": [
    "### Task 5: Tune your classifier to achieve better than .3 precision and recall\n",
    "\n",
    "# Decision Tree\n",
    "\n",
    "parameters = {'max_depth': [1,2,3,4,5,6,7,8,9,10],'min_samples_split':[2,3,4,5], 'max_leaf_nodes':[5,10,30],\n",
    "              'min_samples_leaf':[1,2,3,4,5,6,7,8], 'criterion':('gini', 'entropy'), 'splitter' : ('best','random')}\n",
    "\n",
    "\n",
    "\n",
    "clf = tree.DecisionTreeClassifier() \n",
    "clf = GridSearchCV(clf, parameters, 'f1')\n",
    "clf = clf.fit(features, labels)\n",
    "print clf.best_estimator_"
   ]
  },
  {
   "cell_type": "code",
   "execution_count": 65,
   "metadata": {},
   "outputs": [
    {
     "name": "stdout",
     "output_type": "stream",
     "text": [
      "0.875\n",
      "SVC(C=10, cache_size=200, class_weight=None, coef0=0.0,\n",
      "  decision_function_shape=None, degree=3, gamma=0.001, kernel='rbf',\n",
      "  max_iter=-1, probability=False, random_state=None, shrinking=True,\n",
      "  tol=0.001, verbose=False)\n",
      "{'kernel': 'rbf', 'C': 10, 'gamma': 0.001}\n"
     ]
    }
   ],
   "source": [
    "# SVC\n",
    "\n",
    "parameters = [\n",
    "  {'C': [1, 10, 100, 1000], 'kernel': ['linear','rbf'], 'gamma': [0.001, 0.0001]}]\n",
    "\n",
    "clf = SVC()\n",
    "clf = GridSearchCV(clf, parameters, 'recall')\n",
    "clf = clf.fit(features, labels)\n",
    "print clf.best_score_\n",
    "print clf.best_estimator_\n",
    "print clf.best_params_"
   ]
  },
  {
   "cell_type": "markdown",
   "metadata": {},
   "source": [
    "## Testing the best estimator against the test_classifier test set"
   ]
  },
  {
   "cell_type": "code",
   "execution_count": 81,
   "metadata": {},
   "outputs": [
    {
     "name": "stdout",
     "output_type": "stream",
     "text": [
      "DecisionTreeClassifier(class_weight=None, criterion='entropy', max_depth=10,\n",
      "            max_features=None, max_leaf_nodes=30, min_impurity_split=1e-07,\n",
      "            min_samples_leaf=1, min_samples_split=2,\n",
      "            min_weight_fraction_leaf=0.0, presort=False, random_state=None,\n",
      "            splitter='random')\n",
      "\tAccuracy: 0.81307\tPrecision: 0.30409\tRecall: 0.31200\tF1: 0.30800\tF2: 0.31039\n",
      "\tTotal predictions: 15000\tTrue positives:  624\tFalse positives: 1428\tFalse negatives: 1376\tTrue negatives: 11572\n",
      "\n"
     ]
    }
   ],
   "source": [
    "from tester import test_classifier\n",
    "test_classifier(clf.best_estimator_, my_dataset, features_list)"
   ]
  },
  {
   "cell_type": "markdown",
   "metadata": {},
   "source": [
    "## Dumping the classifier, dataset and feature list"
   ]
  },
  {
   "cell_type": "code",
   "execution_count": 82,
   "metadata": {
    "collapsed": true
   },
   "outputs": [],
   "source": [
    "### Task 6: Dump your classifier, dataset, and features_list so anyone can\n",
    "### check your results. You do not need to change anything below, but make sure\n",
    "### that the version of poi_id.py that you submit can be run on its own and\n",
    "### generates the necessary .pkl files for validating your results.\n",
    "\n",
    "dump_classifier_and_data(clf, my_dataset, features_list)"
   ]
  }
 ],
 "metadata": {
  "kernelspec": {
   "display_name": "Python 2",
   "language": "python",
   "name": "python2"
  },
  "language_info": {
   "codemirror_mode": {
    "name": "ipython",
    "version": 2
   },
   "file_extension": ".py",
   "mimetype": "text/x-python",
   "name": "python",
   "nbconvert_exporter": "python",
   "pygments_lexer": "ipython2",
   "version": "2.7.13"
  }
 },
 "nbformat": 4,
 "nbformat_minor": 2
}
